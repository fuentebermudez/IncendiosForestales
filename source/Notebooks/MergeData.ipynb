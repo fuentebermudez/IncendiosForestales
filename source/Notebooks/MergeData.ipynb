{
 "cells": [
  {
   "cell_type": "code",
   "execution_count": 124,
   "metadata": {},
   "outputs": [],
   "source": [
    "import pandas as pd\n",
    "import numpy as np\n",
    "import time\n",
    "import AEMET\n",
    "import MODIS\n",
    "import datetime\n",
    "import time\n",
    "import datetime\n",
    "from datetime import date\n",
    "import Utilidades\n",
    "import csv"
   ]
  },
  {
   "cell_type": "code",
   "execution_count": 125,
   "metadata": {},
   "outputs": [],
   "source": [
    "meteo=pd.read_csv(\"../data/Salidas_extractor/meteo.csv\",sep=\";\")\n",
    "modis=pd.read_csv(\"../data/Salidas_extractor/modis.csv\",sep=\";\")\n",
    "pendiente=pd.read_csv(\"../data/Salidas_extractor/pendiente.csv\",sep=\";\")\n",
    "incendios=pd.read_excel(\"../data/fires_join_metEstation.xlsx\",encoding='latin-1')"
   ]
  },
  {
   "cell_type": "code",
   "execution_count": 126,
   "metadata": {},
   "outputs": [],
   "source": [
    "incendios['ID_INCENDIO']=incendios['id']"
   ]
  },
  {
   "cell_type": "code",
   "execution_count": 117,
   "metadata": {},
   "outputs": [],
   "source": [
    "incendios_meteo = pd.merge(incendios, meteo, on='ID_INCENDIO',how='left')\n",
    "incendios_modis=pd.merge(incendios_meteo, modis, on='ID_INCENDIO',how='left')\n",
    "incendios_pendientes=pd.merge(incendios_modis, pendiente, on='ID_INCENDIO',how='left')"
   ]
  },
  {
   "cell_type": "code",
   "execution_count": 128,
   "metadata": {},
   "outputs": [
    {
     "data": {
      "text/html": [
       "<div>\n",
       "<style scoped>\n",
       "    .dataframe tbody tr th:only-of-type {\n",
       "        vertical-align: middle;\n",
       "    }\n",
       "\n",
       "    .dataframe tbody tr th {\n",
       "        vertical-align: top;\n",
       "    }\n",
       "\n",
       "    .dataframe thead th {\n",
       "        text-align: right;\n",
       "    }\n",
       "</style>\n",
       "<table border=\"1\" class=\"dataframe\">\n",
       "  <thead>\n",
       "    <tr style=\"text-align: right;\">\n",
       "      <th></th>\n",
       "      <th>id</th>\n",
       "      <th>superficie</th>\n",
       "      <th>fecha</th>\n",
       "      <th>lat</th>\n",
       "      <th>lng</th>\n",
       "      <th>latlng_exp</th>\n",
       "      <th>idcomunida</th>\n",
       "      <th>idprovinci</th>\n",
       "      <th>idmunicipi</th>\n",
       "      <th>municipio</th>\n",
       "      <th>...</th>\n",
       "      <th>muertos</th>\n",
       "      <th>heridos</th>\n",
       "      <th>time_ctrl</th>\n",
       "      <th>time_ext</th>\n",
       "      <th>personal</th>\n",
       "      <th>medios</th>\n",
       "      <th>gastos</th>\n",
       "      <th>perdidas</th>\n",
       "      <th>ID_ESTACIO</th>\n",
       "      <th>ID_INCENDIO</th>\n",
       "    </tr>\n",
       "  </thead>\n",
       "  <tbody>\n",
       "    <tr>\n",
       "      <th>0</th>\n",
       "      <td>2001010001</td>\n",
       "      <td>3.70</td>\n",
       "      <td>2001-03-18</td>\n",
       "      <td>42.954656</td>\n",
       "      <td>-2.325719</td>\n",
       "      <td>1</td>\n",
       "      <td>1</td>\n",
       "      <td>1</td>\n",
       "      <td>13</td>\n",
       "      <td>BARRUNDIA</td>\n",
       "      <td>...</td>\n",
       "      <td>NaN</td>\n",
       "      <td>NaN</td>\n",
       "      <td>150</td>\n",
       "      <td>180</td>\n",
       "      <td>10</td>\n",
       "      <td>2</td>\n",
       "      <td>661.0</td>\n",
       "      <td>553.0</td>\n",
       "      <td>1037Y</td>\n",
       "      <td>2001010001</td>\n",
       "    </tr>\n",
       "    <tr>\n",
       "      <th>1</th>\n",
       "      <td>2001010004</td>\n",
       "      <td>1.50</td>\n",
       "      <td>2001-03-24</td>\n",
       "      <td>42.552183</td>\n",
       "      <td>-2.640673</td>\n",
       "      <td>1</td>\n",
       "      <td>1</td>\n",
       "      <td>1</td>\n",
       "      <td>41</td>\n",
       "      <td>NAVARIDAS</td>\n",
       "      <td>...</td>\n",
       "      <td>NaN</td>\n",
       "      <td>NaN</td>\n",
       "      <td>275</td>\n",
       "      <td>290</td>\n",
       "      <td>4</td>\n",
       "      <td>1</td>\n",
       "      <td>661.0</td>\n",
       "      <td>451.0</td>\n",
       "      <td>9091O</td>\n",
       "      <td>2001010004</td>\n",
       "    </tr>\n",
       "    <tr>\n",
       "      <th>2</th>\n",
       "      <td>2001010005</td>\n",
       "      <td>1.50</td>\n",
       "      <td>2001-04-16</td>\n",
       "      <td>48.302507</td>\n",
       "      <td>-3.397798</td>\n",
       "      <td>1</td>\n",
       "      <td>1</td>\n",
       "      <td>1</td>\n",
       "      <td>33</td>\n",
       "      <td>LAPUEBLA DE LABARCA</td>\n",
       "      <td>...</td>\n",
       "      <td>NaN</td>\n",
       "      <td>NaN</td>\n",
       "      <td>135</td>\n",
       "      <td>165</td>\n",
       "      <td>4</td>\n",
       "      <td>1</td>\n",
       "      <td>312.0</td>\n",
       "      <td>902.0</td>\n",
       "      <td>1111X</td>\n",
       "      <td>2001010005</td>\n",
       "    </tr>\n",
       "    <tr>\n",
       "      <th>3</th>\n",
       "      <td>2001010008</td>\n",
       "      <td>7.50</td>\n",
       "      <td>2001-05-25</td>\n",
       "      <td>42.946479</td>\n",
       "      <td>-2.485163</td>\n",
       "      <td>1</td>\n",
       "      <td>1</td>\n",
       "      <td>1</td>\n",
       "      <td>13</td>\n",
       "      <td>BARRUNDIA</td>\n",
       "      <td>...</td>\n",
       "      <td>NaN</td>\n",
       "      <td>NaN</td>\n",
       "      <td>335</td>\n",
       "      <td>410</td>\n",
       "      <td>6</td>\n",
       "      <td>1</td>\n",
       "      <td>1082.0</td>\n",
       "      <td>15338.0</td>\n",
       "      <td>1082</td>\n",
       "      <td>2001010008</td>\n",
       "    </tr>\n",
       "    <tr>\n",
       "      <th>4</th>\n",
       "      <td>2001010017</td>\n",
       "      <td>1.04</td>\n",
       "      <td>2001-07-20</td>\n",
       "      <td>43.091715</td>\n",
       "      <td>-3.024574</td>\n",
       "      <td>1</td>\n",
       "      <td>1</td>\n",
       "      <td>1</td>\n",
       "      <td>10</td>\n",
       "      <td>AIARA/AYALA</td>\n",
       "      <td>...</td>\n",
       "      <td>NaN</td>\n",
       "      <td>NaN</td>\n",
       "      <td>45</td>\n",
       "      <td>75</td>\n",
       "      <td>11</td>\n",
       "      <td>2</td>\n",
       "      <td>270.0</td>\n",
       "      <td>2866.0</td>\n",
       "      <td>1078I</td>\n",
       "      <td>2001010017</td>\n",
       "    </tr>\n",
       "  </tbody>\n",
       "</table>\n",
       "<p>5 rows × 23 columns</p>\n",
       "</div>"
      ],
      "text/plain": [
       "           id  superficie       fecha        lat       lng  latlng_exp  \\\n",
       "0  2001010001        3.70  2001-03-18  42.954656 -2.325719           1   \n",
       "1  2001010004        1.50  2001-03-24  42.552183 -2.640673           1   \n",
       "2  2001010005        1.50  2001-04-16  48.302507 -3.397798           1   \n",
       "3  2001010008        7.50  2001-05-25  42.946479 -2.485163           1   \n",
       "4  2001010017        1.04  2001-07-20  43.091715 -3.024574           1   \n",
       "\n",
       "   idcomunida  idprovinci  idmunicipi            municipio  ...  muertos  \\\n",
       "0           1           1          13            BARRUNDIA  ...      NaN   \n",
       "1           1           1          41            NAVARIDAS  ...      NaN   \n",
       "2           1           1          33  LAPUEBLA DE LABARCA  ...      NaN   \n",
       "3           1           1          13            BARRUNDIA  ...      NaN   \n",
       "4           1           1          10          AIARA/AYALA  ...      NaN   \n",
       "\n",
       "   heridos  time_ctrl  time_ext  personal  medios  gastos  perdidas  \\\n",
       "0      NaN        150       180        10       2   661.0     553.0   \n",
       "1      NaN        275       290         4       1   661.0     451.0   \n",
       "2      NaN        135       165         4       1   312.0     902.0   \n",
       "3      NaN        335       410         6       1  1082.0   15338.0   \n",
       "4      NaN         45        75        11       2   270.0    2866.0   \n",
       "\n",
       "   ID_ESTACIO  ID_INCENDIO  \n",
       "0       1037Y   2001010001  \n",
       "1       9091O   2001010004  \n",
       "2       1111X   2001010005  \n",
       "3        1082   2001010008  \n",
       "4       1078I   2001010017  \n",
       "\n",
       "[5 rows x 23 columns]"
      ]
     },
     "execution_count": 128,
     "metadata": {},
     "output_type": "execute_result"
    }
   ],
   "source": [
    "incendios.head()"
   ]
  },
  {
   "cell_type": "code",
   "execution_count": 118,
   "metadata": {},
   "outputs": [],
   "source": [
    "incendios_merge=incendios_pendientes"
   ]
  },
  {
   "cell_type": "code",
   "execution_count": 119,
   "metadata": {},
   "outputs": [],
   "source": [
    "incendios_reprocesar=incendios_merge[~incendios_merge.cota.notnull()]\n"
   ]
  },
  {
   "cell_type": "code",
   "execution_count": 120,
   "metadata": {},
   "outputs": [],
   "source": [
    "incendios_reprocesar.to_csv('D:\\\\borrar\\\\incendios_reprocesar.csv',index=False)"
   ]
  },
  {
   "cell_type": "code",
   "execution_count": 121,
   "metadata": {},
   "outputs": [],
   "source": [
    "incendios_merge.to_csv('D:\\\\borrar\\\\incendios_merge.csv',index=False)"
   ]
  },
  {
   "cell_type": "code",
   "execution_count": 122,
   "metadata": {},
   "outputs": [
    {
     "data": {
      "text/plain": [
       "Index(['id', 'superficie', 'fecha', 'lat', 'lng', 'latlng_exp', 'idcomunida',\n",
       "       'idprovinci', 'idmunicipi', 'municipio', 'causa', 'causa_supu',\n",
       "       'causa_desc', 'muertos', 'heridos', 'time_ctrl', 'time_ext', 'personal',\n",
       "       'medios', 'gastos', 'perdidas', 'ID_ESTACIO', 'ID_INCENDIO', 'ID_x',\n",
       "       'cota', 't_max', 't_min', 'prec', 'vel_media', 'racha', 'ID_y', 'NDVI',\n",
       "       'ID', 'PENDIENTE'],\n",
       "      dtype='object')"
      ]
     },
     "execution_count": 122,
     "metadata": {},
     "output_type": "execute_result"
    }
   ],
   "source": [
    "incendios_merge.columns"
   ]
  },
  {
   "cell_type": "code",
   "execution_count": 123,
   "metadata": {},
   "outputs": [
    {
     "name": "stdout",
     "output_type": "stream",
     "text": [
      "<class 'pandas.core.frame.DataFrame'>\n",
      "Int64Index: 82892 entries, 0 to 82891\n",
      "Data columns (total 34 columns):\n",
      "id             82892 non-null int64\n",
      "superficie     82892 non-null float64\n",
      "fecha          82892 non-null object\n",
      "lat            82892 non-null float64\n",
      "lng            82892 non-null float64\n",
      "latlng_exp     82892 non-null int64\n",
      "idcomunida     82892 non-null int64\n",
      "idprovinci     82892 non-null int64\n",
      "idmunicipi     82892 non-null int64\n",
      "municipio      82892 non-null object\n",
      "causa          82892 non-null int64\n",
      "causa_supu     46633 non-null float64\n",
      "causa_desc     82892 non-null int64\n",
      "muertos        2723 non-null float64\n",
      "heridos        3072 non-null float64\n",
      "time_ctrl      82892 non-null int64\n",
      "time_ext       82892 non-null int64\n",
      "personal       82892 non-null int64\n",
      "medios         82892 non-null int64\n",
      "gastos         11711 non-null float64\n",
      "perdidas       34444 non-null float64\n",
      "ID_ESTACIO     82892 non-null object\n",
      "ID_INCENDIO    82892 non-null int64\n",
      "ID_x           45133 non-null float64\n",
      "cota           45133 non-null float64\n",
      "t_max          44333 non-null float64\n",
      "t_min          44316 non-null float64\n",
      "prec           40710 non-null float64\n",
      "vel_media      40642 non-null float64\n",
      "racha          40376 non-null float64\n",
      "ID_y           82891 non-null float64\n",
      "NDVI           82881 non-null float64\n",
      "ID             82892 non-null int64\n",
      "PENDIENTE      82808 non-null float64\n",
      "dtypes: float64(18), int64(13), object(3)\n",
      "memory usage: 21.2+ MB\n"
     ]
    }
   ],
   "source": [
    "incendios_merge.info()"
   ]
  },
  {
   "cell_type": "code",
   "execution_count": null,
   "metadata": {},
   "outputs": [],
   "source": []
  }
 ],
 "metadata": {
  "kernelspec": {
   "display_name": "Python 3",
   "language": "python",
   "name": "python3"
  },
  "language_info": {
   "codemirror_mode": {
    "name": "ipython",
    "version": 3
   },
   "file_extension": ".py",
   "mimetype": "text/x-python",
   "name": "python",
   "nbconvert_exporter": "python",
   "pygments_lexer": "ipython3",
   "version": "3.7.3"
  }
 },
 "nbformat": 4,
 "nbformat_minor": 2
}
