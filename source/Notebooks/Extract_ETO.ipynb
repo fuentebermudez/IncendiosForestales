{
 "cells": [
  {
   "cell_type": "code",
   "execution_count": 1,
   "metadata": {},
   "outputs": [
    {
     "name": "stdout",
     "output_type": "stream",
     "text": [
      "2192.9340136054425\n"
     ]
    }
   ],
   "source": [
    "import pandas as pd\n",
    "import numpy as np\n",
    "import time\n",
    "import AEMET\n",
    "import MODIS\n",
    "import datetime\n",
    "import time\n",
    "import datetime\n",
    "from datetime import date\n",
    "import Utilidades\n",
    "import csv"
   ]
  },
  {
   "cell_type": "code",
   "execution_count": 2,
   "metadata": {},
   "outputs": [],
   "source": [
    "fires_meteo=pd.read_excel(\"../data/fires_join_metEstation.xlsx\",encoding='latin-1')"
   ]
  },
  {
   "cell_type": "code",
   "execution_count": null,
   "metadata": {},
   "outputs": [
    {
     "name": "stdout",
     "output_type": "stream",
     "text": [
      "2001-09-05\n",
      "2001-09-06\n",
      "2001-09-07\n",
      "2001-09-09\n",
      "2001-09-09\n",
      "2001-09-12\n",
      "2001-09-12\n",
      "2001-09-12\n",
      "2001-09-13\n",
      "2001-09-14\n",
      "2001-09-14\n",
      "2001-09-18\n",
      "2001-09-20\n",
      "2001-09-21\n",
      "2001-10-02\n",
      "2001-10-05\n",
      "2001-10-28\n",
      "2001-11-14\n",
      "2001-12-02\n",
      "2001-07-08\n",
      "2001-05-28\n",
      "2001-06-03\n",
      "2001-06-02\n",
      "2001-07-14\n",
      "2001-06-29\n",
      "2001-04-08\n",
      "2001-04-12\n",
      "2001-05-28\n",
      "2001-05-31\n",
      "2001-06-02\n",
      "2001-06-30\n",
      "200\n",
      "2001-06-20\n",
      "2001-06-18\n",
      "2001-06-15\n",
      "2001-06-12\n",
      "2001-06-10\n",
      "2001-06-11\n",
      "2001-05-29\n",
      "2001-05-29\n",
      "2001-07-07\n",
      "2001-06-29\n",
      "2001-06-28\n",
      "2001-06-25\n",
      "2001-06-25\n",
      "2001-07-02\n",
      "2001-06-23\n",
      "2001-05-26\n",
      "2001-06-27\n",
      "2001-06-29\n",
      "2001-06-24\n",
      "2001-06-30\n",
      "2001-07-01\n",
      "2001-06-29\n",
      "2001-06-27\n",
      "2001-06-26\n",
      "2001-06-23\n",
      "2001-06-25\n",
      "2001-06-23\n",
      "2001-06-24\n",
      "2001-06-22\n",
      "2001-06-19\n",
      "2001-06-19\n",
      "2001-06-19\n",
      "2001-06-19\n",
      "2001-06-18\n",
      "2001-06-16\n",
      "2001-06-21\n",
      "2001-06-22\n",
      "2001-06-19\n",
      "2001-06-18\n",
      "2001-06-18\n",
      "2001-06-09\n",
      "2001-06-08\n",
      "2001-06-08\n",
      "2001-06-07\n",
      "2001-06-05\n",
      "2001-06-05\n",
      "2001-06-05\n",
      "2001-06-04\n",
      "2001-05-29\n",
      "2001-06-03\n"
     ]
    }
   ],
   "source": [
    "%%time\n",
    "fire_meteo=[]\n",
    "fires_meteo_test=fires_meteo[169:]\n",
    "n=169\n",
    "for fire in fires_meteo_test.iterrows():\n",
    "    id_fire=str(fire[1]['id'])\n",
    "    fecha_inicial=MODIS.format_modis_date(Utilidades.substract_days(fire[1]['fecha'],n_days=15))\n",
    "    fecha_final=MODIS.format_modis_date(fire[1]['fecha'])\n",
    "    lat=str(fire[1]['lat'])\n",
    "    lng=str(fire[1]['lng'])\n",
    "    id_estacion=fire[1]['ID_ESTACIO']\n",
    "    if n%100==0:\n",
    "        print(n)\n",
    "    try:\n",
    "        print(fire[1]['fecha'])\n",
    "        datos=MODIS.get_evapotranspiration(lat,lng,fecha_inicial,fecha_final)\n",
    "    except:\n",
    "        time.sleep(1)\n",
    "        datos=np.nan\n",
    "   \n",
    "    valores=[n,datos]\n",
    "    valores.append(id_fire)\n",
    "        \n",
    "        \n",
    "    with open('D:\\\\borrar\\\\ETO.txt', 'a',newline='') as myfile:\n",
    "        wr = csv.writer(myfile, quoting=csv.QUOTE_NONNUMERIC)\n",
    "        wr.writerow(valores)\n",
    "            \n",
    "    fire_meteo.append(valores)\n",
    "    n=n+1\n",
    "\n"
   ]
  },
  {
   "cell_type": "code",
   "execution_count": null,
   "metadata": {},
   "outputs": [],
   "source": []
  },
  {
   "cell_type": "code",
   "execution_count": null,
   "metadata": {},
   "outputs": [],
   "source": []
  }
 ],
 "metadata": {
  "kernelspec": {
   "display_name": "Python 3",
   "language": "python",
   "name": "python3"
  },
  "language_info": {
   "codemirror_mode": {
    "name": "ipython",
    "version": 3
   },
   "file_extension": ".py",
   "mimetype": "text/x-python",
   "name": "python",
   "nbconvert_exporter": "python",
   "pygments_lexer": "ipython3",
   "version": "3.7.3"
  }
 },
 "nbformat": 4,
 "nbformat_minor": 2
}
