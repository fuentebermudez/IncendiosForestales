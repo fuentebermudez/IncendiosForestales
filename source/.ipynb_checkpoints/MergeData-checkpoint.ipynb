{
 "cells": [
  {
   "cell_type": "code",
   "execution_count": 103,
   "metadata": {},
   "outputs": [],
   "source": [
    "import pandas as pd\n",
    "import numpy as np\n",
    "import time\n",
    "import AEMET\n",
    "import MODIS\n",
    "import datetime\n",
    "import time\n",
    "import datetime\n",
    "from datetime import date\n",
    "import Utilidades\n",
    "import csv"
   ]
  },
  {
   "cell_type": "code",
   "execution_count": 104,
   "metadata": {},
   "outputs": [],
   "source": [
    "meteo=pd.read_csv(\"../data/Salidas_extractor/meteo.csv\",sep=\";\")\n",
    "modis=pd.read_csv(\"../data/Salidas_extractor/modis.csv\",sep=\";\")\n",
    "pendiente=pd.read_csv(\"../data/Salidas_extractor/pendiente.csv\",sep=\";\")\n",
    "incendios=pd.read_excel(\"../data/fires_join_metEstation.xlsx\",encoding='latin-1')"
   ]
  },
  {
   "cell_type": "code",
   "execution_count": 105,
   "metadata": {},
   "outputs": [],
   "source": [
    "incendios['ID_INCENDIO']=incendios['id']"
   ]
  },
  {
   "cell_type": "code",
   "execution_count": 106,
   "metadata": {},
   "outputs": [],
   "source": [
    "incendios_meteo = pd.merge(incendios, meteo, on='ID_INCENDIO',how='left')\n",
    "incendios_modis=pd.merge(incendios_meteo, modis, on='ID_INCENDIO',how='left')\n",
    "incendios_pendientes=pd.merge(incendios_modis, pendiente, on='ID_INCENDIO',how='left')"
   ]
  },
  {
   "cell_type": "code",
   "execution_count": 107,
   "metadata": {},
   "outputs": [],
   "source": [
    "incendios_merge=incendios_pendientes"
   ]
  },
  {
   "cell_type": "code",
   "execution_count": 108,
   "metadata": {},
   "outputs": [],
   "source": [
    "incendios_reprocesar=incendios_merge[~incendios_merge.cota.notnull()]\n"
   ]
  },
  {
   "cell_type": "code",
   "execution_count": 109,
   "metadata": {},
   "outputs": [],
   "source": [
    "incendios_reprocesar.to_csv('D:\\\\borrar\\\\incendios_reprocesar.csv',index=False)"
   ]
  },
  {
   "cell_type": "code",
   "execution_count": 110,
   "metadata": {},
   "outputs": [],
   "source": [
    "incendios_merge.to_csv('D:\\\\borrar\\\\incendios_merge.csv',index=False)"
   ]
  },
  {
   "cell_type": "code",
   "execution_count": 111,
   "metadata": {},
   "outputs": [
    {
     "data": {
      "text/plain": [
       "Index(['id', 'superficie', 'fecha', 'lat', 'lng', 'latlng_exp', 'idcomunida',\n",
       "       'idprovinci', 'idmunicipi', 'municipio', 'causa', 'causa_supu',\n",
       "       'causa_desc', 'muertos', 'heridos', 'time_ctrl', 'time_ext', 'personal',\n",
       "       'medios', 'gastos', 'perdidas', 'ID_ESTACIO', 'ID_INCENDIO', 'ID_x',\n",
       "       'cota', 't_max', 't_min', 'prec', 'vel_media', 'racha', 'ID_y', 'NDVI',\n",
       "       'ID', 'PENDIENTE'],\n",
       "      dtype='object')"
      ]
     },
     "execution_count": 111,
     "metadata": {},
     "output_type": "execute_result"
    }
   ],
   "source": [
    "incendios_merge.columns"
   ]
  },
  {
   "cell_type": "code",
   "execution_count": 113,
   "metadata": {},
   "outputs": [
    {
     "name": "stdout",
     "output_type": "stream",
     "text": [
      "<class 'pandas.core.frame.DataFrame'>\n",
      "Int64Index: 82879 entries, 0 to 82878\n",
      "Data columns (total 34 columns):\n",
      "id             82879 non-null int64\n",
      "superficie     82879 non-null float64\n",
      "fecha          82879 non-null object\n",
      "lat            82879 non-null float64\n",
      "lng            82879 non-null float64\n",
      "latlng_exp     82879 non-null int64\n",
      "idcomunida     82879 non-null int64\n",
      "idprovinci     82879 non-null int64\n",
      "idmunicipi     82879 non-null int64\n",
      "municipio      82879 non-null object\n",
      "causa          82879 non-null int64\n",
      "causa_supu     46629 non-null float64\n",
      "causa_desc     82879 non-null int64\n",
      "muertos        2723 non-null float64\n",
      "heridos        3072 non-null float64\n",
      "time_ctrl      82879 non-null int64\n",
      "time_ext       82879 non-null int64\n",
      "personal       82879 non-null int64\n",
      "medios         82879 non-null int64\n",
      "gastos         11698 non-null float64\n",
      "perdidas       34431 non-null float64\n",
      "ID_ESTACIO     82879 non-null object\n",
      "ID_INCENDIO    82879 non-null int64\n",
      "ID_x           33186 non-null float64\n",
      "cota           33186 non-null float64\n",
      "t_max          32559 non-null float64\n",
      "t_min          32547 non-null float64\n",
      "prec           29930 non-null float64\n",
      "vel_media      29808 non-null float64\n",
      "racha          29604 non-null float64\n",
      "ID_y           64795 non-null float64\n",
      "NDVI           64789 non-null float64\n",
      "ID             82879 non-null int64\n",
      "PENDIENTE      82795 non-null float64\n",
      "dtypes: float64(18), int64(13), object(3)\n",
      "memory usage: 21.2+ MB\n"
     ]
    }
   ],
   "source": [
    "incendios_merge.info()"
   ]
  }
 ],
 "metadata": {
  "kernelspec": {
   "display_name": "Python 3",
   "language": "python",
   "name": "python3"
  },
  "language_info": {
   "codemirror_mode": {
    "name": "ipython",
    "version": 3
   },
   "file_extension": ".py",
   "mimetype": "text/x-python",
   "name": "python",
   "nbconvert_exporter": "python",
   "pygments_lexer": "ipython3",
   "version": "3.7.3"
  }
 },
 "nbformat": 4,
 "nbformat_minor": 2
}
