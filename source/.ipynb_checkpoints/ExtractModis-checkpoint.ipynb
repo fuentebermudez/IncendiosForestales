{
 "cells": [
  {
   "cell_type": "code",
   "execution_count": 2,
   "metadata": {},
   "outputs": [
    {
     "name": "stdout",
     "output_type": "stream",
     "text": [
      "0.8076285544318859\n"
     ]
    }
   ],
   "source": [
    "import pandas as pd\n",
    "import numpy as np\n",
    "import time\n",
    "import AEMET\n",
    "import MODIS\n",
    "import datetime\n",
    "import time\n",
    "import datetime\n",
    "from datetime import date\n",
    "import Utilidades\n",
    "import csv"
   ]
  },
  {
   "cell_type": "code",
   "execution_count": 3,
   "metadata": {},
   "outputs": [],
   "source": [
    "fires_meteo=pd.read_excel(\"../data/fires_join_metEstation.xlsx\",encoding='latin-1')"
   ]
  },
  {
   "cell_type": "code",
   "execution_count": null,
   "metadata": {},
   "outputs": [
    {
     "name": "stdout",
     "output_type": "stream",
     "text": [
      "3000\n"
     ]
    }
   ],
   "source": [
    "%%time\n",
    "fire_meteo=[]\n",
    "fires_meteo_test=fires_meteo[2000:3000]\n",
    "n=2000\n",
    "for fire in fires_meteo_test.iterrows():\n",
    "    id_fire=str(fire[1]['id'])\n",
    "    fecha_inicial=MODIS.format_modis_date(Utilidades.substract_days(fire[1]['fecha'],n_days=15))\n",
    "    fecha_final=MODIS.format_modis_date(fire[1]['fecha'])\n",
    "    lat=str(fire[1]['lat'])\n",
    "    lng=str(fire[1]['lng'])\n",
    "    id_estacion=fire[1]['ID_ESTACIO']\n",
    "    if n%100==0:\n",
    "        print(n)\n",
    "    try:\n",
    "        datos=MODIS.get_ndvi_serie(lat,lng,fecha_inicial,fecha_final)\n",
    "    except:\n",
    "        time.sleep(1)\n",
    "        datos=np.nan\n",
    "   \n",
    "    valores=[n,datos]\n",
    "    valores.append(id_fire)\n",
    "        \n",
    "        \n",
    "    with open('D:\\\\borrar\\\\modis.txt', 'a',newline='') as myfile:\n",
    "        wr = csv.writer(myfile, quoting=csv.QUOTE_NONNUMERIC)\n",
    "        wr.writerow(valores)\n",
    "            \n",
    "    fire_meteo.append(valores)\n",
    "    n=n+1\n",
    "\n"
   ]
  },
  {
   "cell_type": "code",
   "execution_count": null,
   "metadata": {},
   "outputs": [],
   "source": []
  }
 ],
 "metadata": {
  "kernelspec": {
   "display_name": "Python 3",
   "language": "python",
   "name": "python3"
  },
  "language_info": {
   "codemirror_mode": {
    "name": "ipython",
    "version": 3
   },
   "file_extension": ".py",
   "mimetype": "text/x-python",
   "name": "python",
   "nbconvert_exporter": "python",
   "pygments_lexer": "ipython3",
   "version": "3.7.3"
  }
 },
 "nbformat": 4,
 "nbformat_minor": 2
}
