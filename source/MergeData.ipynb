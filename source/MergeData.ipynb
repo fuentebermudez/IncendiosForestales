{
 "cells": [
  {
   "cell_type": "code",
   "execution_count": 1,
   "metadata": {},
   "outputs": [
    {
     "name": "stdout",
     "output_type": "stream",
     "text": [
      "0.8076285544318859\n"
     ]
    }
   ],
   "source": [
    "import pandas as pd\n",
    "import numpy as np\n",
    "import time\n",
    "import AEMET\n",
    "import MODIS\n",
    "import datetime\n",
    "import time\n",
    "import datetime\n",
    "from datetime import date\n",
    "import Utilidades\n",
    "import csv"
   ]
  },
  {
   "cell_type": "code",
   "execution_count": 53,
   "metadata": {},
   "outputs": [],
   "source": [
    "meteo=pd.read_csv(\"../data/Salidas_extractor/meteo.csv\",sep=\";\")\n",
    "modis=pd.read_csv(\"../data/Salidas_extractor/modis.csv\",sep=\";\")\n",
    "pendiente=pd.read_csv(\"../data/Salidas_extractor/pendiente.csv\",sep=\";\")\n",
    "incendios=pd.read_excel(\"../data/fires_join_metEstation.xlsx\",encoding='latin-1')"
   ]
  },
  {
   "cell_type": "code",
   "execution_count": 57,
   "metadata": {},
   "outputs": [],
   "source": [
    "incendios['ID_INCENDIO']=incendios['id']"
   ]
  },
  {
   "cell_type": "code",
   "execution_count": 58,
   "metadata": {},
   "outputs": [],
   "source": [
    "incendios_meteo = pd.merge(incendios, meteo, on='ID_INCENDIO',how='left')\n",
    "incendios_modis=pd.merge(incendios_meteo, modis, on='ID_INCENDIO',how='left')\n",
    "incendios_pendientes=pd.merge(incendios_modis, pendiente, on='ID_INCENDIO',how='left')"
   ]
  },
  {
   "cell_type": "code",
   "execution_count": 61,
   "metadata": {},
   "outputs": [],
   "source": [
    "incendios_merge=incendios_pendientes"
   ]
  },
  {
   "cell_type": "code",
   "execution_count": 78,
   "metadata": {},
   "outputs": [],
   "source": [
    "incendios_reprocesar=incendios_merge[~incendios_merge.Cota.notnull()]\n"
   ]
  },
  {
   "cell_type": "code",
   "execution_count": 79,
   "metadata": {},
   "outputs": [],
   "source": [
    "incendios_reprocesar.to_csv('D:\\\\borrar\\\\incendios_reprocesar.csv',index=False)"
   ]
  },
  {
   "cell_type": "code",
   "execution_count": null,
   "metadata": {},
   "outputs": [],
   "source": []
  }
 ],
 "metadata": {
  "kernelspec": {
   "display_name": "Python 3",
   "language": "python",
   "name": "python3"
  },
  "language_info": {
   "codemirror_mode": {
    "name": "ipython",
    "version": 3
   },
   "file_extension": ".py",
   "mimetype": "text/x-python",
   "name": "python",
   "nbconvert_exporter": "python",
   "pygments_lexer": "ipython3",
   "version": "3.7.3"
  }
 },
 "nbformat": 4,
 "nbformat_minor": 2
}
